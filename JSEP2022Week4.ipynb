{
  "nbformat": 4,
  "nbformat_minor": 0,
  "metadata": {
    "colab": {
      "provenance": []
    },
    "kernelspec": {
      "name": "python3",
      "display_name": "Python 3"
    },
    "language_info": {
      "name": "python"
    }
  },
  "cells": [
    {
      "cell_type": "markdown",
      "source": [
        "## File Management and I/O\n",
        "Scientific data are typically acquired, processed, stored, exchanged, and archived as computer files. As a means of input/output (I/O) communication, Python provides tools for reading, writing and otherwise manipulating files in various formats. Supplemental Chapter 11 in S1 Text focuses on file I/O in Python. Most simply, the Python interpreter allows command-line input and basic data output via the print() function. For real-time interaction with Python, the free IPython [89] system offers a shell that is both easy to use and uniquely powerful (e.g., it features tab completion and command history scrolling); see the S2 Text, §3 for more on interacting with Python. A more general approach to I/O, and a more robust (persistent) approach to data archival and exchange, is to use files for reading, writing, and processing data. Python handles file I/O via the creation of file objects, which are instantiated by calling the open function with the filename and access mode as its two arguments. The syntax is illustrated by fileObject = open(\"myName.pdb\", mode = ‘r’), which creates a new file object from a file named \"myName.pdb\". This file will be only readable because the ‘r’ mode is specified; other valid modes include ‘w’ to allow writing and ‘a’ for appending. Depending on which mode is specified, different methods of the file object will be exposed for use. Table 4 describes mode types and the various methods of a File object. Table 4. Python’s file-access modes.\n",
        "https://doi.org/10.1371/journal.pcbi.1004867.t004\n",
        "\n",
        "The following example opens a file named myDataFile.txt and reads the lines, en masse, into a list named listOfLines. (In this example, the variable readFile is also known as a “file handle,” as it references the file object.) As for all lists, this object is iterable and can be looped over in order to process the data.\n",
        "The following example opens a file named myDataFile.txt and reads the lines, en masse, into a list named listOfLines. (In this example, the variable readFile is also known as a “file handle,” as it references the file object.) As for all lists, this object is iterable and can be looped over in order to process the data.\n",
        "```python\n",
        "readFile = open(\"myDataFile.txt\", mode = ‘r’)\n",
        "\n",
        "listOfLines = readFile.readlines()\n",
        "\n",
        " # Process the lines. Simply dump the contents to the console:\n",
        "\n",
        " for l in listOfLines:\n",
        "  print(l)\n",
        "\n",
        " (The lines in the file will be printed)\n",
        "\n",
        "readFile.close()\n",
        "```\n",
        "Data can be extracted and processed via subsequent string operations on the list of lines drawn from the file. In fact, many data-analysis workflows commit much effort to the pre-processing of raw data and standardization of formats, simply to enable data structures to be cleanly populated. For many common input formats such as .csv(comma-separated values) and .xls(Microsoft Excel), packages such as  [90] simplify the process of reading in complex file formats and organizing the input as flexible data structures. For more specialized file formats, much of this ‘data wrangling’ stems from the different degrees of standards-compliance of various data sources, as well as the immense heterogeneity of modern collections of datasets (sequences, 3D structures, microarray data, network graphs, etc.). A common example of the need to read and extract information is provided by the PDB file format [[22]](https://journals.plos.org/ploscompbiol/article?id=10.1371/journal.pcbi.1004867#pcbi.1004867.ref022), which is a container for macromolecular structural data. In addition to its basic information content—lists of atoms and their 3D coordinates—the standard PDB file format also includes a host of metadata (loosely, data that describe other (lower-level) data, for instance in terms of syntax and schemas), such as the biopolymer sequence, protein superfamily, quaternary structures, chemical moieties that may be present, X-ray or NMR refinement details, and so on. Indeed, processing and analyzing the rich data available in a PDB file motivates the Final Project at the end of this primer. For now, this brief example demonstrates how to use Python’s I/O methods to count the number of  records in a [PDB file] (https://www.rcsb.org/structure/1i8f):\n",
        "\n"
      ],
      "metadata": {
        "id": "uAlxsxAzIkLc"
      }
    },
    {
      "cell_type": "code",
      "execution_count": null,
      "metadata": {
        "colab": {
          "base_uri": "https://localhost:8080/"
        },
        "id": "GW_LfdqRIjAt",
        "outputId": "62bf6198-0d46-426d-a9fa-7882146edc3e"
      },
      "outputs": [
        {
          "output_type": "stream",
          "name": "stdout",
          "text": [
            "Drive already mounted at /content/drive; to attempt to forcibly remount, call drive.mount(\"/content/drive\", force_remount=True).\n",
            "160\n"
          ]
        }
      ],
      "source": [
        "from google.colab import drive  # These two lines are used for accessing\n",
        "drive.mount('/content/drive')   # the Google Drive.\n",
        "fp = open('/content/drive/MyDrive/Colab Notebooks/1i8f.pdb', mode = 'r')\n",
        "numHetatm = 0\n",
        "for line in fp.readlines():\n",
        "  if (len(line) > 6):\n",
        "      if(line[0:6] == \"HETATM\"):\n",
        "       numHetatm += 1\n",
        "fp.close()\n",
        "\n",
        "print(numHetatm)  # Show how many occurances are \"HETATM\"."
      ]
    },
    {
      "cell_type": "markdown",
      "source": [
        "Such $HETATM$, or heteroatom, lines in a PDB file correspond to water, ions, small-molecule ligands, and other non-biopolymer components of a structure; for example, glycerol $HETATM$ lines are often found in cryo-crystallographic structures, where glycerol was added to crystals as a cryo-protectant.\n",
        "\n",
        "**Exercise 10:** The standard FASTA file-format, used to represent protein and nucleic acid sequences, consists of two parts: (i) The first line is a description of the biomolecule, starting with a greater-than sign (>) in the first column; this sign is immediately followed by a non-whitespace character and any arbitrary text that describes the sequence name and other information (e.g., database accession identifiers). (ii) The subsequent lines specify the biomolecular sequence as single-letter codes, with no blank lines allowed. A protein example follows:\n",
        "``` python\n",
        ">tr|Q8ZYG5|Q8ZYG5_PYRAE (Sm-like) OS = P aerophilum GN = PAE0790MASDISKCFATLGATLQDSIGKQVLVKLRDSHEIRGILRSFDQHVNLLLEDAEEIIDGNVYKRGTMVVRGENVLFISPVP\n",
        "```\n",
        "Begin this exercise by choosing a FASTA protein sequence with more than 3000 AA residues. Then, write Python code to read in the sequence from the FASTA file and: (i) determine the relative frequencies of AAs that follow proline in the sequence; (ii) compare the distribution of AAs that follow proline to the distribution of AAs in the entire protein; and (iii) write these results to a human-readable file.\n",
        "\n",
        "**Note:** You need to download FASTA file."
      ],
      "metadata": {
        "id": "nLji5FdhUsnQ"
      }
    },
    {
      "cell_type": "code",
      "source": [
        "# You may write the code for Exercise 10 below.\n",
        "# You need to download and save the FATA file in the same directory as the code.\n",
        "# The link to download the file is this https://www.rcsb.org/structure/7O1T\n",
        "#"
      ],
      "metadata": {
        "id": "RTI8gKE7WW6L"
      },
      "execution_count": null,
      "outputs": []
    },
    {
      "cell_type": "markdown",
      "source": [
        "# Regular Expressions for String Manipulations\n",
        "The *regular expression (regex)* is an extensible tool for pattern matching in strings. They are discussed at length in Supplemental Chapter 17 in S1 Text. Regexes entered the world of practical programming in the late 1960s at Bell Labs and, like many tools of that era, they are powerful, flexible, and terse constructs. Fundamentally, a regex specifies a set of strings. The simplest type of regex is a simple string with no special characters *(metacharacters)*. Such a regex will match itself: <mark> **Biology** </mark> would match “**Biology**” or “**Biologys**” but not “**biology**,” “**Biochem**” or anything else that does not start with “**Biology**” (note the case sensitivity).\n",
        "\n",
        "In Python, a regex `match`es a string if the string starts with that `regex`. Python also provides a `search` function to locate a `regex` anywhere within a string. Returning to the notion that a `regex` “specifies a set of strings,” given some text the `match`es to a `regex` will be all strings that **start** with the regex, while the search hits will be all strings that **contain** the `regex`. For clarity, we will say that a `regex` finds a string if the string is completely described by the `regex`, with no trailing characters. (There is no `find` in Python but, for purposes of description here, it is useful to have a term to refer to a `match` without trailing characters.)\n",
        "\n",
        "Locating strings and parsing text files is a ubiquitous task in the biosciences, e.g. identifying a stop codon in a nucleic acid FASTA file or finding error messages in an instrument’s log files. Yet regexes offer even greater functionality than may be initially apparent from these examples, as described below. First, we note that the following metacharacters are special in `regexes`: **`$^.*+?{}[]()|\\`** and in most cases they do not `find` themselves.\n",
        "\n",
        "The `^` and `$` metacharacters (known as anchors) are straightforward, as they `find` the start and end of a line, respectively. While `match` looks for lines beginning with the specified `regex`, adding a `$` to the end of the `regex` pattern will ensure that any matching line ends at the end of the regex. (This is why there is no find function in Python: it is easily achieved by adding a `$` to a `regex` used in `match`.) For example, to `find` lines in a log file that state **`Run complete`**, but not **`Run completes in  5 minutes`**, the `regex` **`Run complete$`** would `match` the desired target lines.\n",
        "\n",
        "A  (a period) finds literally any character. For example, if a protein kinase has a consensus motif of ‘’, where  is any AA, then the regex  would succeed in searching for substrates.\n",
        "\n",
        "The metacharacters , , , and  are special quantifier operators, used to specify repetition of a character, character class, or higher-order unit within a regex (described below). A  after a character (or group of characters) finds that character zero or more times. Returning to the notion of a consensus motif, a protein that recognizes RNA which contains the dinucleotide ‘’ followed by any number of ‘’s would find its binding partners by searching for the regex . One can comb through RNA-seq reads to find sequences that are 3'-polyadenylated by searching for . This would find exactly five ‘’s, followed by zero or more ‘’s, followed by the end of the line. The  metacharacter is akin to , except that it finds one or more of the preceding character. A  finds the preceding character zero or one time. Most generally, the  syntax finds the preceding character (possibly from a character class) between m and n times, inclusive. Thus,  finds the character ‘’ if repeated exactly three times,  finds the character ‘’ repeated five to eighteen times, and  finds runs of two or more ‘’ characters.\n",
        "\n",
        "Combining the above concepts, we can search for protein sequences that begin with a His6×-tag (‘’), followed by at most five residues, then a TEV protease cleavage site (‘’), followed immediately by a 73-residue polypeptide that ends with ‘’. The regex to search for this sequence would be .\n",
        "\n",
        "Characters enclosed in square brackets, , specify a character class. This functionality allows a regex to find any of a set of characters. For example,  would find ‘  ’ or ‘  ’, where the variable char from the character class is bolded. A range of characters can be provided by separating them with a hyphen, . So, for instance,  would find a word that starts with a capital letter. Multiple ranges can be specified, and  would find PDB files in some search directory. (Note that the  in that regex will find any character, so ‘’ would be matched, even though we might intend for only ‘’ to be found. This could be corrected by escaping the  with a backslash, as discussed below.) The  metacharacter can be used to negate a character class:  would find any non-numeric character.\n",
        "\n",
        "The backslash metacharacter, , is used to suppress, or escape, the meaning of the immediately following character; for this reason, \\ is known as an escape character. For example, consider the task of finding prices exceeding $1000$ in a segment of text. A regex might be . This monstrous regex should find a dollar sign, any number of zeros, one non-zero number, at least three numbers, a period, and two numbers. Thus, ‘’ would be found, but not ‘’. (The requirement of a non-zero number followed by three numbers is not met in this case.) But, there is a problem here: The  metacharacter anchors the end of a line, and because no text can appear after the end of a line this regex will never match any text. Furthermore, the  is meant to find a literal period (the decimal point), but in a regex it is a wildcard that finds any character. The  metacharacter can be used to solve both of these problems: It notifies the regex engine to treat the subsequent character as a literal. Thus, a correct regex for prices over $1000$ would be . To find a literal ‘\\’, use . (The \\ metacharacter often appears in I/O processing as a way to escape quotation marks; for instance, the statement print(\"foo\") will output foo, whereas print(\"\\\"foo\\\"\") will print \"foo\".)\n",
        "\n",
        "Python and many other languages include a \\ before certain (non-reserved) characters, as a convenient built-in feature for commonly-used character classes. In particular,  finds any digit,  finds whitespace,  finds non-whitespace, and  finds any alphanumeric character or underscore (i.e., the class ), such as typically occurs in ordinary English words. These built-in features can be used to more compactly express the price regex, including the possibility of whitespace between the ‘$’ sign and the first digit: .\n",
        "\n",
        "The  metacharacter is the logical ‘or’ operator (also known as the alternation operator). The regex  will find either ‘’ or ‘’. Initially, the behavior of  can be deceptive:  is not equivalent to , as the former will find a lone pound symbol, a lone Euro symbol, or a dollar sign followed by a number. As an example, to match the  and  records in a PDB file,  would work.\n",
        "\n",
        "The final metacharacters that we will explore are matched parentheses, , which find character groups. While  will find ‘’, ‘’, or ‘’, the regex  matches only those strings starting with ‘’—i.e., it is equivalent to . The utility of groups stems from the ability to use them as units of repetition. For example, to see if a sequence is delimited by a start and stop codon, and therefore is a potential ORF, we could use ; this regex will search for ‘’, ‘’, or ‘’ at the end of the sequence. (Note that parentheses delimit the .) Note that this regex does not check that the start and stop codon are in the same frame, since the characters that find captures by the  may not be a multiple of three. To address this, the regex could be changed to . Another feature of groups is the ability to refer to previous occurrences of a group within the regex (a backreference), enabling even more versatile pattern matching. To explore groups and other powerful features of regexes, readers can consult thorough texts [91] and numerous online resources (e.g., [92,93]).\n",
        "\n",
        "Beyond the central role of the regex in analyzing biological sequences, parsing datasets, etc., note that any effort spent learning Python regexes is highly transferable. In terms of general syntactic forms and functionality, regexes behave roughly similarly in Python and in many other mainstream languages (e.g., Perl, R), as well as in the shell scripts and command-line utilities (e.g., grep) found in the Unix family of operating systems (including all Linux distributions and Apple’s OS X).\n",
        "\n",
        "**Exercise 11:** Many human hereditary neurodegenerative disorders, such as Huntington’s disease (HD), are linked to anomalous expansions in the number of trinucleotide repeats in particular genes [94]. In HD, the pathological severity correlates with the number of (CAG)n repeats in exon-1 of the gene (htt) encoding the protein (huntingtin): More repeats means an earlier age of onset and a more rapid disease progression. The CAG codon specifies glutamine, and HD belongs to a broad class of polyglutamine (polyQ) diseases. Healthy (wild-type) variants of this gene feature n ≈ 6–35 tandem repeats, whereas n > 35 virtually assures the disease. For this exercise, write a Python regex that will locate any consecutive runs of (CAG)n>10 in an input DNA sequence. Because the codon CAA also encodes Q and has been found in long runs of CAGs, your regex should also allow interspersed CAAs. To extend this exercise, write code that uses your regex to count the number of CAG repeats (allow CAA too), and apply it to a publically-available genome sequence of your choosing (e.g., the NCBI GI code 588282786:1-585 is exon-1 from a human’s htt gene [accessible at http://1.usa.gov/1NjrDNJ])."
      ],
      "metadata": {
        "id": "IpWAiSlSYhPy"
      }
    },
    {
      "cell_type": "code",
      "source": [
        "# You may write the code for Exercise 11 below.\n",
        "#\n",
        "#"
      ],
      "metadata": {
        "id": "mj86dvYjTT6K"
      },
      "execution_count": null,
      "outputs": []
    }
  ]
}