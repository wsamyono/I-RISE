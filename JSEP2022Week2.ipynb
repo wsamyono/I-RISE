{
  "nbformat": 4,
  "nbformat_minor": 0,
  "metadata": {
    "colab": {
      "provenance": [],
      "include_colab_link": true
    },
    "kernelspec": {
      "name": "python3",
      "display_name": "Python 3"
    },
    "language_info": {
      "name": "python"
    }
  },
  "cells": [
    {
      "cell_type": "markdown",
      "metadata": {
        "id": "view-in-github",
        "colab_type": "text"
      },
      "source": [
        "<a href=\"https://colab.research.google.com/github/wsamyono/BulldogTeamFacHackGW23/blob/main/JSEP2022Week2.ipynb\" target=\"_parent\"><img src=\"https://colab.research.google.com/assets/colab-badge.svg\" alt=\"Open In Colab\"/></a>"
      ]
    },
    {
      "cell_type": "markdown",
      "source": [
        "#Control Flow: Repetition via While Loops\n",
        "Whereas the if statement tests a condition exactly once and branches the code execution accordingly, the while statement instructs an enclosed block of code to repeat so long as the given condition (the continuation condition) is satisfied. In fact, while can be considered as a repeated if. This is the simplest form of a loop, and is termed a while loop (Fig 3). The condition check occurs once before entering the associated block; thus, Python’s while is a pre-test loop. (Some languages feature looping constructs wherein the condition check is performed after a first iteration; C’s do–while is an example of such a post-test loop. This is mentioned because looping constructs should be carefully examined when comparing source code in different languages.) If the condition is true, the block is executed and then the interpreter effectively jumps to the while statement that began the block. If the condition is false, the block is skipped and the interpreter jumps to the first statement after the block. The code below is a simple example of a while loop, used to generate a counter that prints each integer between 1 and 100 (inclusive):"
      ],
      "metadata": {
        "id": "P_Ydicg2gIUb"
      }
    },
    {
      "cell_type": "code",
      "execution_count": null,
      "metadata": {
        "colab": {
          "base_uri": "https://localhost:8080/"
        },
        "id": "YH2fKAqzlkDN",
        "outputId": "210ba9e6-322c-4c15-bc04-d98003ac843c"
      },
      "outputs": [
        {
          "output_type": "stream",
          "name": "stdout",
          "text": [
            "1\n",
            "2\n",
            "3\n",
            "4\n",
            "5\n",
            "6\n",
            "7\n",
            "8\n",
            "9\n",
            "10\n",
            "11\n",
            "12\n",
            "13\n",
            "14\n",
            "15\n",
            "16\n",
            "17\n",
            "18\n",
            "19\n",
            "20\n",
            "21\n",
            "22\n",
            "23\n",
            "24\n",
            "25\n",
            "26\n",
            "27\n",
            "28\n",
            "29\n",
            "30\n",
            "31\n",
            "32\n",
            "33\n",
            "34\n",
            "35\n",
            "36\n",
            "37\n",
            "38\n",
            "39\n",
            "40\n",
            "41\n",
            "42\n",
            "43\n",
            "44\n",
            "45\n",
            "46\n",
            "47\n",
            "48\n",
            "49\n",
            "50\n",
            "51\n",
            "52\n",
            "53\n",
            "54\n",
            "55\n",
            "56\n",
            "57\n",
            "58\n",
            "59\n",
            "60\n",
            "61\n",
            "62\n",
            "63\n",
            "64\n",
            "65\n",
            "66\n",
            "67\n",
            "68\n",
            "69\n",
            "70\n",
            "71\n",
            "72\n",
            "73\n",
            "74\n",
            "75\n",
            "76\n",
            "77\n",
            "78\n",
            "79\n",
            "80\n",
            "81\n",
            "82\n",
            "83\n",
            "84\n",
            "85\n",
            "86\n",
            "87\n",
            "88\n",
            "89\n",
            "90\n",
            "91\n",
            "92\n",
            "93\n",
            "94\n",
            "95\n",
            "96\n",
            "97\n",
            "98\n",
            "99\n",
            "100\n",
            "done!\n"
          ]
        }
      ],
      "source": [
        "counter = 1\n",
        "\n",
        "while(counter <= 100):\n",
        "  print(counter)\n",
        "  counter = counter + 1\n",
        "\n",
        "print(\"done!\")"
      ]
    },
    {
      "cell_type": "markdown",
      "source": [
        "This code will begin with a variable, then print and increment it until its value is 101, at which point the enclosing while loop ends and a final string (line 5) is printed. Crucially, one should verify that the loop termination condition can, in fact, be reached. If not—e.g., if the loop were specified as while(True): for some reason—then the loop would continue indefinitely, creating an infinite loop that would render the program unresponsive. (In many environments, such as a Unix shell, the keystroke Ctrl-c can be used as a keyboard interrupt to break out of the loop.)\n",
        "\n",
        "**Exercise 4:** With the above example as a starting point, write a function that chooses two randomly-generated integers between 0 and 100, inclusive, and then prints all numbers between these two values, counting from the lower number to the upper number."
      ],
      "metadata": {
        "id": "9GXg9HFBPePw"
      }
    },
    {
      "cell_type": "code",
      "source": [
        "# Write the code for Exercise 4 below.\n",
        "# -------------------------------------------------------------\n"
      ],
      "metadata": {
        "id": "CJHJJALkPr2O"
      },
      "execution_count": null,
      "outputs": []
    },
    {
      "cell_type": "markdown",
      "source": [
        "## Recursion\n",
        "“In order to understand recursion, you must first understand recursion.”\n",
        "\n",
        "— Anonymous\n",
        "\n",
        "Recursion is a subtle concept. A while loop is conceptually straightforward: a block of statements comprising the body of the loop is repeatedly executed as long as a condition is true. A recursive function, on the other hand, calls itself repeatedly, effectively creating a loop. Recursion is the most natural programming approach (or paradigm) for solving a complex problem that can be decomposed into (easier) subproblems, each of which resembles the overall problem. Mathematically, problems that are formulated in this manner are known as recurrence relations, and a classic example is the factorial (below). Recursion is so fundamental and general a concept that iterative constructs (for, while loops) can be expressed recursively; in fact, some languages dispense with loops entirely and rely on recursion for all repetition. The key idea is that a recursive function calls itself from within its own function body, thus progressing one step closer to the final solution at each self-call. The recursion terminates once it has reached a trivially simple final operation, termed the base case. (Here, the word “simple” means only that evaluation of the final operation yields no further recursive steps, with no implication as to the computational complexity of that final operation.) Calculation of the factorial function, f(n) = n!, is a classic example of a problem that is elegantly coded in a recursive manner. Recall that the factorial of a natural number, n, is defined as:\n",
        "$$\n",
        "\\begin{align}\n",
        "        n! = \\left\\{\n",
        "        \\begin{array}{cl}\n",
        "        1 & n = 1 \\\\  \n",
        "        n*(n-1)! & n > 1.\n",
        "        \\end{array}\n",
        "        \\right.\n",
        "    \\end{align}\n",
        "$$\n",
        "This function can be compactly implemented in Python like so:\n"
      ],
      "metadata": {
        "id": "cEWIp5T4Py5T"
      }
    },
    {
      "cell_type": "code",
      "source": [
        "def factorial(n):\n",
        "  assert(n > 0) # Crash on invalid input\n",
        "  if(n == 1):\n",
        "    return 1\n",
        "  else:\n",
        "    return n * factorial(n-1)\n",
        "\n",
        "print(factorial(3))\n",
        "\n",
        "print(factorial(6))\n",
        "#  print(factorial(0))"
      ],
      "metadata": {
        "colab": {
          "base_uri": "https://localhost:8080/"
        },
        "id": "uxFVH2bMWhRQ",
        "outputId": "9dd8a679-ab8f-4a10-8045-bebb07597641"
      },
      "execution_count": null,
      "outputs": [
        {
          "output_type": "stream",
          "name": "stdout",
          "text": [
            "6\n",
            "720\n"
          ]
        }
      ]
    },
    {
      "cell_type": "markdown",
      "source": [
        "A call to this factorial function will return 1 if the input is equal to one, and otherwise will return the input value multiplied by the factorial of that integer less one (factorial(n-1)). Note that this recursive implementation of the factorial perfectly matches its mathematical definition. This often holds true, and many mathematical operations on data are most easily expressed recursively. When the Python interpreter encounters the call to the factorial function within the function block itself (line 6), it generates a new instance of the function on the fly, while retaining the original function in memory (technically, these function instances occupy the runtime’s call stack). Python places the current function call on hold in the call stack while the newly-called function is evaluated. This process continues until the base case is reached, at which point the function returns a value. Next, the previous function instance in the call stack resumes execution, calculates its result, and returns it. This process of traversing the call stack continues until the very first invocation has returned. At that point, the call stack is empty and the function evaluation has completed.\n",
        "\n",
        "## Expressing Problems Recursively\n",
        "Defining recursion simply as a function calling itself misses some nuances of the recursive approach to problem-solving. Any difficult problem (e.g., f(n) = n!) that can be expressed as a simpler instance of the same problem (e.g., f(n) = n*f(n − 1)) is amenable to a recursive solution. Only when the problem is trivially easy (1!, factorial(1) above) does the recursive solution give a direct (one-step) answer. Recursive approaches fundamentally differ from more iterative (also known as procedural) strategies: Iterative constructs (loops) express the entire solution to a problem in more explicit form, whereas recursion repeatedly makes a problem simpler until it is trivial. Many data-processing functions are most naturally and compactly solved via recursion.\n",
        "\n",
        "The recursive descent/ascent behavior described above is extremely powerful, and care is required to avoid pitfalls and frustration. For example, consider the following addition algorithm, which uses the equality operator (==) to test for the base case:\n",
        "\n"
      ],
      "metadata": {
        "id": "b8s4lAGIXUX_"
      }
    },
    {
      "cell_type": "code",
      "source": [
        "def badRecursiveAdder(x):\n",
        "   if(x == 1):\n",
        "         return x\n",
        "   else:\n",
        "          return x + badRecursiveAdder(x-2)\n",
        "\n",
        "badRecursiveAdder(3) # Argument in odd number is okay.\n",
        "\n",
        "# badRecursiveAdder(2) # Argument in even number is not okay. It will create an error.\n",
        "# badRecursiveAdder(6) # Argument in even number is not okay. It will create an error."
      ],
      "metadata": {
        "colab": {
          "base_uri": "https://localhost:8080/"
        },
        "id": "kY0_R0xHXuUY",
        "outputId": "f57501aa-07aa-4307-b206-f7e43bf1c406"
      },
      "execution_count": null,
      "outputs": [
        {
          "output_type": "execute_result",
          "data": {
            "text/plain": [
              "4"
            ]
          },
          "metadata": {},
          "execution_count": 5
        }
      ]
    },
    {
      "cell_type": "markdown",
      "source": [
        "This function does include a base case (lines 2–3), and at first glance may seem to act as expected, yielding a sequence of squares (1, 4, 9, 16…) for x = 1, 3, 5, 7,… Indeed, for odd x greater than 1, the function will behave as anticipated. However, if the argument is negative or is an even number, the base case will never be reached (note that line 5 subtracts 2), causing the function call to simply hang, as would an infinite loop. (In this scenario, Python’s maximum recursion depth will be reached and the call stack will overflow.) Thus, in addition to defining the function’s base case, it is also crucial to confirm that all possible inputs will reach the base case. A valid recursive function must progress towards—and eventually reach—the base case with every call. More information on recursion can be found in Supplemental Chapter 7 in S1 Text, in Chapter 4 of [40], and in most computer science texts.\n",
        "\n",
        "**Exercise 5:** Consider the Fibonacci sequence of integers, 0, 1, 1, 2, 3, 5, 8, 13, …, given by\n",
        "$$\n",
        "\\begin{align}\n",
        "        F_n = \\left\\{\n",
        "        \\begin{array}{cl}\n",
        "        n & n \\leq 1 \\\\  \n",
        "        F_{n-1}+F_{n-2} & n > 1.\n",
        "        \\end{array}\n",
        "        \\right.\n",
        "    \\end{align}\n",
        "$$\n",
        "\n",
        "This sequence appears in the study of phyllotaxis and other areas of biological pattern formation (see, e.g., [67]). Now, write a recursive Python function to compute the nth Fibonacci number, Fn, and test that your program works. Include an assert to make sure the argument is positive. Can you generalize your code to allow for different seed values (F0 = l, F1 = m, for integers l and m) as arguments to your function, thereby creating new sequences? (Doing so gets you one step closer to Lucas sequences, Ln, which are a highly general class of recurrence relations.)"
      ],
      "metadata": {
        "id": "6WTtwNGHY2KR"
      }
    },
    {
      "cell_type": "code",
      "source": [
        "# Write your code for Exercise 5 below\n",
        "# ----------------------------------------------\n"
      ],
      "metadata": {
        "id": "JFwTcSA6ZnrJ"
      },
      "execution_count": null,
      "outputs": []
    },
    {
      "cell_type": "markdown",
      "source": [
        "**Exercise 6:** Many functions can be coded both recursively and iteratively (using loops), though often it will be clear that one approach is better suited to the given problem (the factorial is one such example). In this exercise, devise an iterative Python function to compute the factorial of a user-specified integer argument. As a bonus exercise, try coding the Fibonacci sequence in iterative form. Is this as straightforward as the recursive approach? Note that Supplemental Chapter 7 in the S1 Text might be useful here."
      ],
      "metadata": {
        "id": "pvyzdgmxbaYb"
      }
    },
    {
      "cell_type": "code",
      "source": [
        "# Write the code for Exercise 6 below\n",
        "# -----------------------------------------\n"
      ],
      "metadata": {
        "id": "Wedvu318bjiH"
      },
      "execution_count": null,
      "outputs": []
    }
  ]
}